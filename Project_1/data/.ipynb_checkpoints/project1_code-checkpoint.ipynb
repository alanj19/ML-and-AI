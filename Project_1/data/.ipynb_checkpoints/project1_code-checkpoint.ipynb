{
 "cells": [
  {
   "cell_type": "code",
   "execution_count": 7,
   "id": "235bca85-d261-4e63-a8a4-6271ab3d76e6",
   "metadata": {},
   "outputs": [],
   "source": [
    "import pandas as pd\n",
    "from sklearn.model_selection import train_test_split\n"
   ]
  },
  {
   "cell_type": "code",
   "execution_count": 4,
   "id": "1e473a49-e9c1-4c94-9b47-9b7bc7dcc31f",
   "metadata": {},
   "outputs": [
    {
     "name": "stdout",
     "output_type": "stream",
     "text": [
      "   PassengerId  Survived  Pclass  \\\n",
      "0            1         0       3   \n",
      "1            2         1       1   \n",
      "2            3         1       3   \n",
      "3            4         1       1   \n",
      "4            5         0       3   \n",
      "\n",
      "                                                Name     Sex   Age  SibSp  \\\n",
      "0                            Braund, Mr. Owen Harris    male  22.0      1   \n",
      "1  Cumings, Mrs. John Bradley (Florence Briggs Th...  female  38.0      1   \n",
      "2                             Heikkinen, Miss. Laina  female  26.0      0   \n",
      "3       Futrelle, Mrs. Jacques Heath (Lily May Peel)  female  35.0      1   \n",
      "4                           Allen, Mr. William Henry    male  35.0      0   \n",
      "\n",
      "   Parch            Ticket     Fare Cabin Embarked  \n",
      "0      0         A/5 21171   7.2500   NaN        S  \n",
      "1      0          PC 17599  71.2833   C85        C  \n",
      "2      0  STON/O2. 3101282   7.9250   NaN        S  \n",
      "3      0            113803  53.1000  C123        S  \n",
      "4      0            373450   8.0500   NaN        S  \n",
      "(891, 12)\n",
      "Index(['PassengerId', 'Survived', 'Pclass', 'Name', 'Sex', 'Age', 'SibSp',\n",
      "       'Parch', 'Ticket', 'Fare', 'Cabin', 'Embarked'],\n",
      "      dtype='object')\n"
     ]
    }
   ],
   "source": [
    "df = pd.read_csv(\"titanic.csv\")\n",
    "print(df.head())\n",
    "print(df.shape)\n",
    "print(df.columns)"
   ]
  },
  {
   "cell_type": "code",
   "execution_count": 5,
   "id": "1d7081fa-3759-4499-aec1-4da6cf1b3077",
   "metadata": {},
   "outputs": [
    {
     "name": "stdout",
     "output_type": "stream",
     "text": [
      "Sex - Female: 0.742, Male: 0.189\n",
      "Pclass - 1: 0.630, 2: 0.473, 3: 0.242\n",
      "Age - 18 and younger: 0.504, 18 and older: 0.383\n"
     ]
    }
   ],
   "source": [
    "#data analysis - survival percentages by category\n",
    "# survival by sex\n",
    "female_survival = df[df['Sex'] == 'female']['Survived'].mean()\n",
    "male_survival = df[df['Sex'] == 'male']['Survived'].mean()\n",
    "print(f\"Sex - Female: {female_survival:.3f}, Male: {male_survival:.3f}\")\n",
    "\n",
    "# survival by class\n",
    "class1_survival = df[df['Pclass'] == 1]['Survived'].mean()\n",
    "class2_survival = df[df['Pclass'] == 2]['Survived'].mean()\n",
    "class3_survival = df[df['Pclass'] == 3]['Survived'].mean()\n",
    "print(f\"Pclass - 1: {class1_survival:.3f}, 2: {class2_survival:.3f}, 3: {class3_survival:.3f}\")\n",
    "\n",
    "# survival by age\n",
    "young_survival = df[df['Age'] <= 18]['Survived'].mean()\n",
    "old_survival = df[df['Age'] > 18]['Survived'].mean()\n",
    "print(f\"Age - 18 and younger: {young_survival:.3f}, 18 and older: {old_survival:.3f}\")"
   ]
  },
  {
   "cell_type": "code",
   "execution_count": 8,
   "id": "46590ebd-f689-4cff-9fd7-48d4aaa489eb",
   "metadata": {},
   "outputs": [
    {
     "name": "stdout",
     "output_type": "stream",
     "text": [
      "Test Accuracy: 0.776\n",
      "\n",
      "Feature Importance:\n",
      "Sex: 0.425\n",
      "Age: 0.404\n",
      "Pclass: 0.170\n",
      "\n",
      "Example: Sex=male, Age=42, Pclass=2 -> Not Survived\n"
     ]
    }
   ],
   "source": [
    "\n",
    "# Decision Tree Classifier\n",
    "from sklearn.tree import DecisionTreeClassifier\n",
    "from sklearn.metrics import accuracy_score\n",
    "\n",
    "# prepare data\n",
    "X = df[['Sex', 'Age', 'Pclass']].copy()\n",
    "y = df['Survived']\n",
    "\n",
    "# remove rows with missing values\n",
    "X_clean = X.dropna().copy()\n",
    "y_clean = y.loc[X_clean.index]\n",
    "\n",
    "# encode categorical variable\n",
    "sex_mapping = {'male': 0, 'female': 1}\n",
    "X_clean.loc[:, 'Sex'] = X_clean['Sex'].map(sex_mapping)\n",
    "\n",
    "# split data intro training and testing sets\n",
    "X_train, X_test, y_train, y_test = train_test_split(X_clean, y_clean, test_size=0.2, random_state=42)\n",
    "\n",
    "# train decision tree\n",
    "model = DecisionTreeClassifier(random_state=42)\n",
    "model.fit(X_train, y_train)\n",
    "\n",
    "# calculate accuracy\n",
    "test_accuracy = accuracy_score(y_test, model.predict(X_test))\n",
    "print(f\"Test Accuracy: {test_accuracy:.3f}\")\n",
    "\n",
    "# feature importance\n",
    "feature_names = ['Sex', 'Age', 'Pclass']\n",
    "importances = model.feature_importances_\n",
    "\n",
    "print(\"\\nFeature Importance:\")\n",
    "for name, importance in zip(feature_names, importances):\n",
    "    print(f\"{name}: {importance:.3f}\")\n",
    "\n",
    "# Example with test data\n",
    "test_sample = X_test.iloc[0]\n",
    "prediction = model.predict(test_sample.to_frame().T)[0]\n",
    "reverse_sex_mapping = {0: 'male', 1: 'female'}\n",
    "print(f\"\\nExample: Sex={reverse_sex_mapping[test_sample['Sex']]}, Age={test_sample['Age']:.0f}, Pclass={test_sample['Pclass']} -> {'Survived' if prediction == 1 else 'Not Survived'}\")\n"
   ]
  }
 ],
 "metadata": {
  "kernelspec": {
   "display_name": "Python 3 (ipykernel)",
   "language": "python",
   "name": "python3"
  },
  "language_info": {
   "codemirror_mode": {
    "name": "ipython",
    "version": 3
   },
   "file_extension": ".py",
   "mimetype": "text/x-python",
   "name": "python",
   "nbconvert_exporter": "python",
   "pygments_lexer": "ipython3",
   "version": "3.10.10"
  }
 },
 "nbformat": 4,
 "nbformat_minor": 5
}
